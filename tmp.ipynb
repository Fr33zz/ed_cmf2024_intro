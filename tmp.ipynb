{
 "cells": [
  {
   "cell_type": "code",
   "execution_count": null,
   "metadata": {},
   "outputs": [],
   "source": [
    "- смотрим дату\n",
    "- прикидываем что проще сделать"
   ]
  },
  {
   "cell_type": "code",
   "execution_count": 1,
   "metadata": {},
   "outputs": [],
   "source": [
    "import pandas as pd"
   ]
  },
  {
   "cell_type": "code",
   "execution_count": 11,
   "metadata": {},
   "outputs": [],
   "source": [
    "#pd.read_csv('./data/md_sim/bbo_dogeusdt.csv')\n",
    "#pd.read_csv('./data/md_sim/trades_dogeusdt.csv')\n",
    "#pd.read_csv('./data/md_sim/bbo_1000pepeusdt.csv')\n",
    "#pd.read_csv('./data/md_sim/trades_1000pepeusdt.csv')\n",
    "tmp = pd.read_csv('./data/md_sim/trades_1000pepeusdt.csv')['local_timestamp']"
   ]
  },
  {
   "cell_type": "code",
   "execution_count": 15,
   "metadata": {},
   "outputs": [
    {
     "data": {
      "text/plain": [
       "120959363086.4"
      ]
     },
     "execution_count": 15,
     "metadata": {},
     "output_type": "execute_result"
    }
   ],
   "source": [
    "#tmp.min(), tmp.max()"
   ]
  }
 ],
 "metadata": {
  "kernelspec": {
   "display_name": "cmf",
   "language": "python",
   "name": "python3"
  },
  "language_info": {
   "codemirror_mode": {
    "name": "ipython",
    "version": 3
   },
   "file_extension": ".py",
   "mimetype": "text/x-python",
   "name": "python",
   "nbconvert_exporter": "python",
   "pygments_lexer": "ipython3",
   "version": "3.12.3"
  }
 },
 "nbformat": 4,
 "nbformat_minor": 2
}
